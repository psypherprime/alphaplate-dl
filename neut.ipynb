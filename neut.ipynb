{
 "cells": [
  {
   "cell_type": "code",
   "id": "initial_id",
   "metadata": {
    "collapsed": true,
    "ExecuteTime": {
     "end_time": "2024-07-05T11:08:05.763262Z",
     "start_time": "2024-07-05T11:08:05.751032Z"
    }
   },
   "source": "import numpy as np",
   "outputs": [],
   "execution_count": 2
  },
  {
   "metadata": {
    "ExecuteTime": {
     "end_time": "2024-07-05T11:26:52.253054Z",
     "start_time": "2024-07-05T11:26:52.234059Z"
    }
   },
   "cell_type": "code",
   "source": [
    "class Operation(object):\n",
    "    '''\n",
    "    Base class for all operations in a\n",
    "    neural network.\n",
    "    \n",
    "    Created since the other operations classes are\n",
    "    going to inherit from this class.\n",
    "    '''\n",
    "    def __init__(self):\n",
    "        pass\n",
    "    \n",
    "    def forward(self, input_:np.ndarray):\n",
    "        self.input_ = input_\n",
    "        self.output = self._output()\n",
    "        \n",
    "        return self.output\n",
    "    \n",
    "    def backward(self, output_grad:np.ndarray) -> np.ndarray:\n",
    "        \n",
    "        assert self.output.shape == output_grad.shape\n",
    "        self.input_grad = self._input_grad(output_grad) # Check this out\n",
    "        \n",
    "        assert self.input_.shape == self.input_grad.shape\n",
    "        return self.input_grad\n",
    "    \n",
    "    def _output(self) -> np.ndarray:\n",
    "        raise NotImplementedError\n",
    "    \n",
    "    def _input_grad(self, output_grad:np.ndarray) -> np.ndarray:\n",
    "        raise NotImplementedError"
   ],
   "id": "6fe534ff302bb68e",
   "outputs": [],
   "execution_count": 3
  },
  {
   "metadata": {
    "ExecuteTime": {
     "end_time": "2024-07-05T11:33:22.705691Z",
     "start_time": "2024-07-05T11:33:22.689843Z"
    }
   },
   "cell_type": "code",
   "source": [
    "class ParamOperation(Operation):\n",
    "    \n",
    "    def __init__(self, param:np.ndarray) -> np.ndarray:\n",
    "        super().__init__()\n",
    "        self.param = param\n",
    "        \n",
    "    def backward(self, output_grad:np.ndarray) -> np.ndarray:\n",
    "        assert self.output.shape == output_grad.shape\n",
    "        \n",
    "        self.input_grad = self._input_grad(output_grad)\n",
    "        self.param_grad = self._param_grad(output_grad)\n",
    "        \n",
    "        assert self.input_ == self.input_grad\n",
    "        assert self.param == self.param_grad\n",
    "        \n",
    "        return self.input_grad"
   ],
   "id": "c784789cd234d9d8",
   "outputs": [],
   "execution_count": 4
  },
  {
   "metadata": {
    "ExecuteTime": {
     "end_time": "2024-07-05T12:12:21.637851Z",
     "start_time": "2024-07-05T12:12:21.622236Z"
    }
   },
   "cell_type": "code",
   "source": [
    "class WeightMultiply(ParamOperation):\n",
    "    \n",
    "    def __init__(self, W:np.ndarray) -> np.ndarray:\n",
    "        super().__init__(W)\n",
    "        \n",
    "    def _output(self) -> np.ndarray:\n",
    "        return np.dot(self.input_, self.param)\n",
    "    \n",
    "    def _input_grad(self, output_grad:np.ndarray) -> np.ndarray:\n",
    "        return np.dot(output_grad, self.param.T)\n",
    "    \n",
    "    def _param_grad(self, output_grad:np.ndarray) -> np.ndarray: # Check this\n",
    "        return np.dot(self.input_.T, output_grad)"
   ],
   "id": "2a6617a9d3053720",
   "outputs": [],
   "execution_count": 6
  },
  {
   "metadata": {
    "ExecuteTime": {
     "end_time": "2024-07-05T12:16:41.198759Z",
     "start_time": "2024-07-05T12:16:41.188731Z"
    }
   },
   "cell_type": "code",
   "source": [
    "class BiasAdd(ParamOperation):\n",
    "    \n",
    "    def __init__(self, B:np.ndarray):\n",
    "        assert B[0].shape == 1\n",
    "        super().__init__(B)\n",
    "        \n",
    "    def _output(self) -> np.ndarray:\n",
    "        return self.input_ + self.param\n",
    "    \n",
    "    def _input_grad(self, output_grad:np.ndarray) -> np.ndarray:\n",
    "        return np.ones_like(self.input_) * output_grad\n",
    "    \n",
    "    def _param_grad(self, output_grad:np.ndarray) -> np.ndarray:\n",
    "        param_grad = np.ones_like(self.param) * output_grad\n",
    "        return np.sum(param_grad, axis=0).reshape(1, param_grad.shape[1])"
   ],
   "id": "ea11ce936315c5de",
   "outputs": [],
   "execution_count": 7
  },
  {
   "metadata": {
    "ExecuteTime": {
     "end_time": "2024-07-05T14:16:58.278157Z",
     "start_time": "2024-07-05T14:16:58.267171Z"
    }
   },
   "cell_type": "code",
   "source": [
    "class Sigmoid(Operation):\n",
    "    \n",
    "    def __init__(self):\n",
    "        super().__init__()\n",
    "        \n",
    "    def _output(self) -> np.ndarray:\n",
    "        return 1.0/(1+np.exp(-1.0 * self.input_))\n",
    "    \n",
    "    def _input_grad(self, output_grad:np.ndarray) -> np.ndarray:\n",
    "        sigmoid_backward = self.output * (1.0 - self.output)\n",
    "        input_grad = sigmoid_backward * output_grad\n",
    "        return input_grad"
   ],
   "id": "6a8b1c175b3567ed",
   "outputs": [],
   "execution_count": 9
  },
  {
   "metadata": {
    "ExecuteTime": {
     "end_time": "2024-07-05T14:46:12.979765Z",
     "start_time": "2024-07-05T14:46:12.954758Z"
    }
   },
   "cell_type": "code",
   "source": [
    "class Layer(object):\n",
    "    \n",
    "    def __init__(self, neurons: int):\n",
    "        self.neurons = neurons\n",
    "        self.first = True\n",
    "        self.params: list[np.ndarray] = []\n",
    "        self.param_grads: list[np.ndarray] = []\n",
    "        self.operations: list[Operation] = []\n",
    "        \n",
    "    \n",
    "    def _setup_layer(self, num_in:int) -> None:\n",
    "        raise NotImplementedError\n",
    "    \n",
    "    def forward(self, input_:np.ndarray) -> np.ndarray:\n",
    "        \n",
    "        if self.first:\n",
    "            self._setup_layer(input_)\n",
    "            self.first = False\n",
    "        \n",
    "        self.input_ = input_\n",
    "        \n",
    "        for operation in self.operations:\n",
    "            input_ = operation.forward(input_)\n",
    "            \n",
    "        self.output_ = input_\n",
    "        \n",
    "        return self.output_\n",
    "    \n",
    "    def backward(self, output_grad:np.ndarray) -> np.ndarray:\n",
    "        assert self.output.shape == output_grad.shape\n",
    "        \n",
    "        for operation in reversed(self.operations):\n",
    "            output_grad = operation.backward(output_grad)\n",
    "            \n",
    "        input_grad = output_grad\n",
    "        \n",
    "        self.param_grads()\n",
    "        \n",
    "        return input_grad\n",
    "    \n",
    "    def param_grads(self) -> np.ndarray:\n",
    "        self.param_grads = []\n",
    "        \n",
    "        for operation in self.operations:\n",
    "            if issubclass(operation.__class__, ParamOperation):\n",
    "                self.param_grads.append(operation.param_grad)\n",
    "                \n",
    "    def _params(self) -> np.ndarray:\n",
    "        self.params = []\n",
    "        \n",
    "        for operation in self.operations:\n",
    "            if issubclass(operation.__class__, ParamOperation):\n",
    "                self.params.append(operation.param)"
   ],
   "id": "4eb4bb685444c8b1",
   "outputs": [],
   "execution_count": 10
  },
  {
   "metadata": {
    "ExecuteTime": {
     "end_time": "2024-07-05T16:06:02.817004Z",
     "start_time": "2024-07-05T16:06:02.797012Z"
    }
   },
   "cell_type": "code",
   "source": [
    " class Dense(Layer):\n",
    "    def __init__(self, neurons: int, activation: Operation = Sigmoid()) -> None:\n",
    "        super().__init__(neurons)\n",
    "        self.activation = activation\n",
    "    \n",
    "    def _setup_layer(self, input_: np.ndarray) -> None:\n",
    "        if self.seed:\n",
    "            np.random.seed(self.seed)\n",
    "            \n",
    "        self.params = []\n",
    "        self.params.append(np.random.randn(input_.shape[1], self.neurons))\n",
    "        self.params.append(np.random.randn(1, self.neurons))\n",
    "        \n",
    "        self.operations = [WeightMultiply(self.params[0]),\n",
    "                           BiasAdd(self.params[1]),\n",
    "                           self.activation]\n",
    "                           \n",
    "        return None\n",
    "    \n",
    "    "
   ],
   "id": "5eb73f32c3cc0da4",
   "outputs": [],
   "execution_count": 14
  },
  {
   "metadata": {},
   "cell_type": "code",
   "outputs": [],
   "execution_count": null,
   "source": "",
   "id": "f5c7379f6d85b2c3"
  }
 ],
 "metadata": {
  "kernelspec": {
   "display_name": "Python 3",
   "language": "python",
   "name": "python3"
  },
  "language_info": {
   "codemirror_mode": {
    "name": "ipython",
    "version": 2
   },
   "file_extension": ".py",
   "mimetype": "text/x-python",
   "name": "python",
   "nbconvert_exporter": "python",
   "pygments_lexer": "ipython2",
   "version": "2.7.6"
  }
 },
 "nbformat": 4,
 "nbformat_minor": 5
}
