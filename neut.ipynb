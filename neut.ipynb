{
 "cells": [
  {
   "cell_type": "code",
   "id": "initial_id",
   "metadata": {
    "collapsed": true,
    "ExecuteTime": {
     "end_time": "2024-07-05T18:25:44.206778Z",
     "start_time": "2024-07-05T18:25:44.191176Z"
    }
   },
   "source": "import numpy as np",
   "outputs": [],
   "execution_count": 218
  },
  {
   "metadata": {
    "ExecuteTime": {
     "end_time": "2024-07-05T18:25:44.238039Z",
     "start_time": "2024-07-05T18:25:44.222440Z"
    }
   },
   "cell_type": "code",
   "source": [
    "class Operation(object):\n",
    "    '''\n",
    "    Base class for all operations in a\n",
    "    neural network.\n",
    "    \n",
    "    Created since the other operations classes are\n",
    "    going to inherit from this class.\n",
    "    '''\n",
    "    def __init__(self):\n",
    "        pass\n",
    "    \n",
    "    def forward(self, input_:np.ndarray):\n",
    "        self.input_ = input_\n",
    "        self.output = self._output()\n",
    "        \n",
    "        return self.output\n",
    "    \n",
    "    def backward(self, output_grad:np.ndarray) -> np.ndarray:\n",
    "        \n",
    "        assert self.output.shape == output_grad.shape\n",
    "        self.input_grad = self._input_grad(output_grad) # Check this out\n",
    "        \n",
    "        assert self.input_.shape == self.input_grad.shape\n",
    "        return self.input_grad\n",
    "    \n",
    "    def _output(self) -> np.ndarray:\n",
    "        raise NotImplementedError\n",
    "    \n",
    "    def _input_grad(self, output_grad:np.ndarray) -> np.ndarray:\n",
    "        raise NotImplementedError"
   ],
   "id": "6fe534ff302bb68e",
   "outputs": [],
   "execution_count": 219
  },
  {
   "metadata": {
    "ExecuteTime": {
     "end_time": "2024-07-05T18:25:44.269327Z",
     "start_time": "2024-07-05T18:25:44.253676Z"
    }
   },
   "cell_type": "code",
   "source": [
    "class ParamOperation(Operation):\n",
    "    \n",
    "    def __init__(self, param:np.ndarray) -> np.ndarray:\n",
    "        super().__init__()\n",
    "        self.param = param\n",
    "        \n",
    "    def backward(self, output_grad:np.ndarray) -> np.ndarray:\n",
    "        assert self.output.shape == output_grad.shape\n",
    "        \n",
    "        self.input_grad = self._input_grad(output_grad)\n",
    "        self.param_grad = self._param_grad(output_grad)\n",
    "        \n",
    "        assert self.input_.shape == self.input_grad.shape\n",
    "        assert self.param.shape == self.param_grad.shape\n",
    "        \n",
    "        return self.input_grad\n",
    "    \n",
    "    def _param_grad(self, output_grad:np.ndarray) -> np.ndarray:\n",
    "        raise NotImplementedError"
   ],
   "id": "c784789cd234d9d8",
   "outputs": [],
   "execution_count": 220
  },
  {
   "metadata": {
    "ExecuteTime": {
     "end_time": "2024-07-05T18:25:44.284975Z",
     "start_time": "2024-07-05T18:25:44.269327Z"
    }
   },
   "cell_type": "code",
   "source": [
    "class WeightMultiply(ParamOperation):\n",
    "    \n",
    "    def __init__(self, W:np.ndarray) -> np.ndarray:\n",
    "        super().__init__(W)\n",
    "        \n",
    "    def _output(self) -> np.ndarray:\n",
    "        return np.dot(self.input_, self.param)\n",
    "    \n",
    "    def _input_grad(self, output_grad:np.ndarray) -> np.ndarray:\n",
    "        return np.dot(output_grad, self.param.T)\n",
    "    \n",
    "    def _param_grad(self, output_grad:np.ndarray) -> np.ndarray: # Check this\n",
    "        return np.dot(self.input_.T, output_grad)"
   ],
   "id": "2a6617a9d3053720",
   "outputs": [],
   "execution_count": 221
  },
  {
   "metadata": {
    "ExecuteTime": {
     "end_time": "2024-07-05T18:25:44.300627Z",
     "start_time": "2024-07-05T18:25:44.284975Z"
    }
   },
   "cell_type": "code",
   "source": [
    "class BiasAdd(ParamOperation):\n",
    "    \n",
    "    def __init__(self, B:np.ndarray):\n",
    "        # assert B[0].shape == 1\n",
    "        super().__init__(B)\n",
    "        \n",
    "    def _output(self) -> np.ndarray:\n",
    "        return self.input_ + self.param\n",
    "    \n",
    "    def _input_grad(self, output_grad:np.ndarray) -> np.ndarray:\n",
    "        return np.ones_like(self.input_) * output_grad\n",
    "    \n",
    "    def _param_grad(self, output_grad:np.ndarray) -> np.ndarray:\n",
    "        param_grad = np.ones_like(self.param) * output_grad\n",
    "        return np.sum(param_grad, axis=0).reshape(1, param_grad.shape[1])"
   ],
   "id": "ea11ce936315c5de",
   "outputs": [],
   "execution_count": 222
  },
  {
   "metadata": {
    "ExecuteTime": {
     "end_time": "2024-07-05T18:25:44.316236Z",
     "start_time": "2024-07-05T18:25:44.300627Z"
    }
   },
   "cell_type": "code",
   "source": [
    "class Sigmoid(Operation):\n",
    "    \n",
    "    def __init__(self):\n",
    "        super().__init__()\n",
    "        \n",
    "    def _output(self) -> np.ndarray:\n",
    "        return 1.0/(1+np.exp(-1.0 * self.input_))\n",
    "    \n",
    "    def _input_grad(self, output_grad:np.ndarray) -> np.ndarray:\n",
    "        sigmoid_backward = self.output * (1.0 - self.output)\n",
    "        input_grad = sigmoid_backward * output_grad\n",
    "        return input_grad"
   ],
   "id": "6a8b1c175b3567ed",
   "outputs": [],
   "execution_count": 223
  },
  {
   "metadata": {
    "ExecuteTime": {
     "end_time": "2024-07-05T18:25:44.331866Z",
     "start_time": "2024-07-05T18:25:44.316236Z"
    }
   },
   "cell_type": "code",
   "source": [
    "class Linear(Operation):\n",
    "    def __init__(self) -> None:\n",
    "        super().__init__()\n",
    "    \n",
    "    def _output(self) -> np.ndarray:\n",
    "        return self.input_\n",
    "    \n",
    "    def _input_grad(self, output_grad:np.ndarray) -> np.ndarray:\n",
    "        return output_grad"
   ],
   "id": "7e51335f233aa902",
   "outputs": [],
   "execution_count": 224
  },
  {
   "metadata": {
    "ExecuteTime": {
     "end_time": "2024-07-05T18:25:44.347476Z",
     "start_time": "2024-07-05T18:25:44.331866Z"
    }
   },
   "cell_type": "code",
   "source": [
    "class Layer(object):\n",
    "    \n",
    "    def __init__(self,neurons: int):\n",
    "        self.neurons = neurons\n",
    "        self.first = True\n",
    "        self.params: list[np.ndarray] = []\n",
    "        self.param_grads: list[np.ndarray] = []\n",
    "        self.operations: list[Operation] = []\n",
    "        \n",
    "\n",
    "    def _setup_layer(self, num_in: int) -> None:\n",
    "        raise NotImplementedError()\n",
    "\n",
    "    def forward(self, input_: np.ndarray) -> np.ndarray:\n",
    "        if self.first:\n",
    "            self._setup_layer(input_)\n",
    "            self.first = False\n",
    "\n",
    "        self.input_ = input_\n",
    "\n",
    "        for operation in self.operations:\n",
    "            input_ = operation.forward(input_)\n",
    "\n",
    "        self.output = input_\n",
    "\n",
    "        return self.output\n",
    "\n",
    "    def backward(self, output_grad: np.ndarray) -> np.ndarray:\n",
    "        assert self.output.shape == output_grad.shape\n",
    "\n",
    "        for operation in reversed(self.operations):\n",
    "            output_grad = operation.backward(output_grad)\n",
    "\n",
    "        input_grad = output_grad\n",
    "        self._param_grads()\n",
    "\n",
    "        return input_grad\n",
    "\n",
    "    def _param_grads(self) -> np.ndarray:\n",
    "        \n",
    "        self.param_grads = []\n",
    "        for operation in self.operations:\n",
    "            if issubclass(operation.__class__, ParamOperation):\n",
    "                self.param_grads.append(operation.param_grad)\n",
    "\n",
    "    def _params(self) -> np.ndarray:\n",
    "        self.params = []\n",
    "        for operation in self.operations:\n",
    "            if issubclass(operation.__class__, ParamOperation):\n",
    "                self.params.append(operation.param)"
   ],
   "id": "d0137be23e24e60b",
   "outputs": [],
   "execution_count": 225
  },
  {
   "metadata": {
    "ExecuteTime": {
     "end_time": "2024-07-05T18:25:44.363112Z",
     "start_time": "2024-07-05T18:25:44.347476Z"
    }
   },
   "cell_type": "code",
   "source": [
    " class Dense(Layer):\n",
    "    def __init__(self, neurons: int, activation: Operation=Sigmoid()) -> None:\n",
    "        super().__init__(neurons)\n",
    "        self.activation = activation\n",
    "    \n",
    "    def _setup_layer(self, input_: np.ndarray) -> None:\n",
    "        if self.seed:\n",
    "            np.random.seed(self.seed)\n",
    "            \n",
    "        self.params = []\n",
    "        self.params.append(np.random.randn(input_.shape[1], self.neurons))\n",
    "        self.params.append(np.random.randn(1, self.neurons))\n",
    "        \n",
    "        self.operations = [WeightMultiply(self.params[0]),\n",
    "                           BiasAdd(self.params[1]),\n",
    "                           self.activation]\n",
    "                           \n",
    "        return None\n",
    "    \n",
    "    "
   ],
   "id": "5eb73f32c3cc0da4",
   "outputs": [],
   "execution_count": 226
  },
  {
   "metadata": {
    "ExecuteTime": {
     "end_time": "2024-07-05T18:25:44.394348Z",
     "start_time": "2024-07-05T18:25:44.378751Z"
    }
   },
   "cell_type": "code",
   "source": [
    "class Loss(object):\n",
    "    \n",
    "    def __init__(self):\n",
    "        pass\n",
    "    \n",
    "    def forward(self, prediction: np.ndarray, target: np.ndarray) -> float:\n",
    "        assert prediction.shape == target.shape\n",
    "        \n",
    "        self.prediction = prediction\n",
    "        self.target = target\n",
    "        \n",
    "        loss_value = self._output()\n",
    "        \n",
    "        return loss_value\n",
    "    \n",
    "    def backward(self) -> np.ndarray:\n",
    "        \n",
    "        self.input_grad = self._input_grad()\n",
    "        assert self.prediction.shape == self.input_grad.shape\n",
    "        \n",
    "        return self.input_grad\n",
    "    \n",
    "    def _output(self) -> float:\n",
    "        raise NotImplementedError\n",
    "    \n",
    "    def _input_grad(self) -> np.ndarray:\n",
    "        raise NotImplementedError"
   ],
   "id": "f5c7379f6d85b2c3",
   "outputs": [],
   "execution_count": 227
  },
  {
   "metadata": {
    "ExecuteTime": {
     "end_time": "2024-07-05T18:25:44.409987Z",
     "start_time": "2024-07-05T18:25:44.394348Z"
    }
   },
   "cell_type": "code",
   "source": [
    "class MeanSquaredError(Loss):\n",
    "    \n",
    "    def __init__(self) -> None:\n",
    "        super().__init__()\n",
    "        \n",
    "    def _output(self) -> float:\n",
    "        loss = np.sum(np.square(self.prediction - self.target))/self.prediction.shape[0]\n",
    "        \n",
    "        return loss\n",
    "    \n",
    "    def _input_grad(self) -> np.ndarray:\n",
    "        return 2.0 * (self.prediction - self.target)/self.prediction.shape[0]"
   ],
   "id": "69a3f2dc42cd3514",
   "outputs": [],
   "execution_count": 228
  },
  {
   "metadata": {
    "ExecuteTime": {
     "end_time": "2024-07-05T18:25:44.425590Z",
     "start_time": "2024-07-05T18:25:44.409987Z"
    }
   },
   "cell_type": "code",
   "source": [
    "class NeuralNetwork(object):\n",
    "    \n",
    "    def __init__(self, layers: list[Layer], loss: Loss, seed:float = 1):\n",
    "        self.layers = layers\n",
    "        self.loss = loss\n",
    "        self.seed = seed\n",
    "        \n",
    "        if seed:\n",
    "            for layer in self.layers:\n",
    "                setattr(layer, \"seed\", self.seed)\n",
    "                \n",
    "    def forward(self, x_batch: np.ndarray) -> np.ndarray:\n",
    "        \n",
    "        x_out = x_batch\n",
    "        \n",
    "        for layer in self.layers:\n",
    "            x_out = layer.forward(x_out)\n",
    "            \n",
    "        return x_out\n",
    "    \n",
    "    def backward(self, loss_grad: np.ndarray) -> None:\n",
    "        \n",
    "        grad = loss_grad\n",
    "        \n",
    "        for layer in reversed(self.layers):\n",
    "            grad = layer.backward(grad)\n",
    "            \n",
    "        return None\n",
    "    \n",
    "    def train_batch(self, x_batch: np.ndarray, y_batch: np.ndarray) -> float:\n",
    "        \n",
    "        predictions = self.forward(x_batch)\n",
    "        \n",
    "        loss = self.loss.forward(predictions, y_batch)\n",
    "        \n",
    "        self.backward(self.loss.backward())\n",
    "        \n",
    "        return loss\n",
    "    \n",
    "    def params(self):\n",
    "        \n",
    "        for layer in self.layers:\n",
    "            yield from layer.params # Issue Here\n",
    "            \n",
    "    def param_grads(self):\n",
    "        \n",
    "        for layer in self.layers:\n",
    "            yield from layer.param_grads"
   ],
   "id": "a57c321920444cd3",
   "outputs": [],
   "execution_count": 229
  },
  {
   "metadata": {
    "ExecuteTime": {
     "end_time": "2024-07-05T18:25:44.471505Z",
     "start_time": "2024-07-05T18:25:44.456484Z"
    }
   },
   "cell_type": "code",
   "source": [
    "class Optimizer(object):\n",
    "    \n",
    "    def __init__(self, lr: float = 1e-2):\n",
    "        \n",
    "        self.lr = lr\n",
    "        \n",
    "    def step(self) -> None:\n",
    "        pass"
   ],
   "id": "2ae50dda9494984e",
   "outputs": [],
   "execution_count": 230
  },
  {
   "metadata": {
    "ExecuteTime": {
     "end_time": "2024-07-05T18:25:44.487492Z",
     "start_time": "2024-07-05T18:25:44.478510Z"
    }
   },
   "cell_type": "code",
   "source": [
    "class SGD(Optimizer):\n",
    "    \n",
    "    def __init__(self, lr: float = 1e-2) -> None:\n",
    "        super().__init__(lr)\n",
    "        \n",
    "    def step(self):\n",
    "        \n",
    "        for (param, param_grad) in zip(self.net.params(), self.net.param_grads()):\n",
    "            param -= self.lr * param_grad"
   ],
   "id": "4eff6068c7c8080f",
   "outputs": [],
   "execution_count": 231
  },
  {
   "metadata": {},
   "cell_type": "code",
   "outputs": [],
   "execution_count": null,
   "source": "",
   "id": "f2a8a3570f0bdad6"
  },
  {
   "metadata": {
    "ExecuteTime": {
     "end_time": "2024-07-05T18:25:44.519504Z",
     "start_time": "2024-07-05T18:25:44.501487Z"
    }
   },
   "cell_type": "code",
   "source": [
    "from copy import deepcopy\n",
    "\n",
    "\n",
    "class Trainer(object):\n",
    "    \n",
    "    def __init__(self, net: NeuralNetwork, optim: Optimizer):\n",
    "        \n",
    "        self.net = net\n",
    "        self.optim = optim\n",
    "        self.best_loss = 1e9\n",
    "        setattr(self.optim, 'net', self.net)\n",
    "        \n",
    "    def generate_batches(self, X: np.ndarray, y: np.ndarray, size:int=32) -> tuple[np.ndarray]:\n",
    "        assert X.shape[0] == y.shape[0]\n",
    "        \n",
    "        N = X.shape[0]\n",
    "        \n",
    "        for ii in range(0, N, size):\n",
    "            X_batch, y_batch = X[ii:ii+size], y[ii:ii+size]\n",
    "            \n",
    "            yield X_batch, y_batch\n",
    "        \n",
    "    def fit(self, X_train:np.ndarray, y_train:np.ndarray, X_test:np.ndarray, y_test:np.ndarray,\n",
    "            epochs:int=100, eval_every:int=10, batch_size:int=32, seed:int=1, restart:bool=False):\n",
    "        np.random.seed(seed)\n",
    "        \n",
    "        if restart:\n",
    "            for layer in self.net.layers:\n",
    "                layer.first = True\n",
    "            \n",
    "            self.best_loss = 1e9\n",
    "            \n",
    "        for epoch in range(epochs):\n",
    "\n",
    "            perm = np.random.permutation(X_train.shape[0])\n",
    "            X_train, y_train = X_train[perm], y_train[perm]\n",
    "            \n",
    "            if epoch % eval_every == 0:\n",
    "                last_model = deepcopy(self.net)\n",
    "            batch_generator = self.generate_batches(X_train, y_train, batch_size)\n",
    "            \n",
    "            for ii, (X_batch, y_batch) in enumerate(batch_generator):\n",
    "                self.net.train_batch(X_batch, y_batch)\n",
    "                self.optim.step()\n",
    "                \n",
    "                if (epoch+1) % eval_every == 0:\n",
    "                    test_preds = self.net.forward(X_test)\n",
    "                    loss = self.net.loss.forward(test_preds, y_test)\n",
    "                    \n",
    "                    if loss < self.best_loss:\n",
    "                        print(f\"Validation loss after {epoch+1} epochs: {loss:.3f}\")\n",
    "                        self.best_loss = loss\n",
    "                    else:\n",
    "                        print(f\"Loss increased after {epoch+1} epochs: {loss:.3f} final loss is {self.best_loss:.3f}\")\n",
    "                        self.net = last_model\n",
    "                        setattr(self.optim, 'net', self.net)\n",
    "                        break"
   ],
   "id": "9c7b765fba5946bc",
   "outputs": [],
   "execution_count": 232
  },
  {
   "metadata": {
    "ExecuteTime": {
     "end_time": "2024-07-05T18:25:44.551484Z",
     "start_time": "2024-07-05T18:25:44.530510Z"
    }
   },
   "cell_type": "code",
   "source": [
    "prp = NeuralNetwork(\n",
    "    layers=[Dense(neurons=1,activation=Linear())],\n",
    "    loss=MeanSquaredError(),\n",
    "    seed=7\n",
    ")\n",
    "\n",
    "mlp = NeuralNetwork(\n",
    "    layers=[Dense(neurons=16,activation=Sigmoid()),\n",
    "            Dense(neurons=1,activation=Linear())],\n",
    "    loss=MeanSquaredError(),\n",
    "    seed=7\n",
    ")\n",
    "\n",
    "dnn = NeuralNetwork(\n",
    "    layers=[Dense(neurons=16,activation=Sigmoid()),\n",
    "            Dense(neurons=16,activation=Sigmoid()),\n",
    "            Dense(neurons=1,activation=Linear())],\n",
    "    loss=MeanSquaredError(),\n",
    "    seed=7\n",
    ")"
   ],
   "id": "4a3cfc7db6f29986",
   "outputs": [],
   "execution_count": 233
  },
  {
   "metadata": {
    "ExecuteTime": {
     "end_time": "2024-07-05T18:25:44.567486Z",
     "start_time": "2024-07-05T18:25:44.553485Z"
    }
   },
   "cell_type": "code",
   "source": [
    "from sklearn.datasets import fetch_california_housing\n",
    "\n",
    "california = fetch_california_housing()\n",
    "data, target = california.data, california.target\n",
    "feature = california.feature_names"
   ],
   "id": "1f4c7e24eae0d018",
   "outputs": [],
   "execution_count": 234
  },
  {
   "metadata": {
    "ExecuteTime": {
     "end_time": "2024-07-05T18:25:44.583486Z",
     "start_time": "2024-07-05T18:25:44.569492Z"
    }
   },
   "cell_type": "code",
   "source": [
    "from sklearn.preprocessing import StandardScaler\n",
    "scaler = StandardScaler()\n",
    "data = scaler.fit_transform(data)"
   ],
   "id": "50fb7e9efe57e383",
   "outputs": [],
   "execution_count": 235
  },
  {
   "metadata": {
    "ExecuteTime": {
     "end_time": "2024-07-05T18:25:44.599485Z",
     "start_time": "2024-07-05T18:25:44.585484Z"
    }
   },
   "cell_type": "code",
   "source": [
    "def mk_2dnp(a: np.ndarray, type:str=\"col\") -> np.ndarray:\n",
    "    \n",
    "    if type == \"col\":\n",
    "        return a.reshape(-1, 1)\n",
    "    else:\n",
    "        return a.reshape(1, -1)"
   ],
   "id": "23b36d2e7162d1e9",
   "outputs": [],
   "execution_count": 236
  },
  {
   "metadata": {
    "ExecuteTime": {
     "end_time": "2024-07-05T18:25:44.615485Z",
     "start_time": "2024-07-05T18:25:44.601483Z"
    }
   },
   "cell_type": "code",
   "source": [
    "def mae(y_true: np.ndarray, y_pred: np.ndarray):\n",
    "    return np.mean(np.abs(y_true - y_pred))\n",
    "\n",
    "def rmse(y_true: np.ndarray, y_pred: np.ndarray):\n",
    "    return np.sqrt(np.mean(np.power(y_true - y_pred, 2)))\n",
    "\n",
    "def eval_regression_model(model: NeuralNetwork, X_test: np.ndarray, y_test: np.ndarray):\n",
    "    preds = model.forward(X_test)\n",
    "    preds = preds.reshape(-1, 1)\n",
    "    print(\"Mean absolute error: {:.2f}\".format(mae(preds, y_test)))\n",
    "    print(\"Root mean squared error {:.2f}\".format(rmse(preds, y_test)))"
   ],
   "id": "3a6fece11f612e24",
   "outputs": [],
   "execution_count": 237
  },
  {
   "metadata": {
    "ExecuteTime": {
     "end_time": "2024-07-05T18:25:44.631480Z",
     "start_time": "2024-07-05T18:25:44.617483Z"
    }
   },
   "cell_type": "code",
   "source": [
    "from sklearn.model_selection import train_test_split\n",
    "X_train, X_test, y_train, y_test = train_test_split(data, target, test_size=0.2, random_state=7)\n",
    "\n",
    "y_train, y_test = mk_2dnp(y_train), mk_2dnp(y_test)"
   ],
   "id": "e828215394efdb4e",
   "outputs": [],
   "execution_count": 238
  },
  {
   "metadata": {
    "ExecuteTime": {
     "end_time": "2024-07-05T18:25:48.928142Z",
     "start_time": "2024-07-05T18:25:44.647483Z"
    }
   },
   "cell_type": "code",
   "source": [
    "trainer = Trainer(mlp, SGD(lr=0.01))\n",
    "trainer.fit(X_train, y_train, X_test, y_test, epochs=100, eval_every=10)\n",
    "\n",
    "eval_regression_model(mlp, X_test, y_test)"
   ],
   "id": "e81d11cdd82d6392",
   "outputs": [
    {
     "name": "stdout",
     "output_type": "stream",
     "text": [
      "Validation loss after 10 epochs: 0.489\n",
      "Validation loss after 10 epochs: 0.489\n",
      "Validation loss after 10 epochs: 0.489\n",
      "Loss increased after 10 epochs: 0.490 final loss is 0.489\n",
      "Loss increased after 20 epochs: 0.490 final loss is 0.489\n",
      "Loss increased after 30 epochs: 0.490 final loss is 0.489\n",
      "Loss increased after 40 epochs: 0.489 final loss is 0.489\n",
      "Loss increased after 50 epochs: 0.490 final loss is 0.489\n",
      "Loss increased after 60 epochs: 0.490 final loss is 0.489\n",
      "Loss increased after 70 epochs: 0.491 final loss is 0.489\n",
      "Loss increased after 80 epochs: 0.493 final loss is 0.489\n",
      "Loss increased after 90 epochs: 0.492 final loss is 0.489\n",
      "Loss increased after 100 epochs: 0.490 final loss is 0.489\n",
      "Mean absolute error: 0.51\n",
      "Root mean squared error 0.70\n"
     ]
    }
   ],
   "execution_count": 239
  },
  {
   "metadata": {
    "ExecuteTime": {
     "end_time": "2024-07-05T18:25:54.913053Z",
     "start_time": "2024-07-05T18:25:48.928142Z"
    }
   },
   "cell_type": "code",
   "source": [
    "trainer = Trainer(dnn, SGD(lr=0.01))\n",
    "trainer.fit(X_train, y_train, X_test, y_test, epochs=100, eval_every=10)\n",
    "\n",
    "eval_regression_model(dnn, X_test, y_test)"
   ],
   "id": "2f7230ef7cdac17d",
   "outputs": [
    {
     "name": "stdout",
     "output_type": "stream",
     "text": [
      "Validation loss after 10 epochs: 0.447\n",
      "Validation loss after 10 epochs: 0.447\n",
      "Loss increased after 10 epochs: 0.447 final loss is 0.447\n",
      "Validation loss after 20 epochs: 0.447\n",
      "Validation loss after 20 epochs: 0.447\n",
      "Loss increased after 20 epochs: 0.447 final loss is 0.447\n",
      "Loss increased after 30 epochs: 0.448 final loss is 0.447\n",
      "Loss increased after 40 epochs: 0.449 final loss is 0.447\n",
      "Loss increased after 50 epochs: 0.447 final loss is 0.447\n",
      "Loss increased after 60 epochs: 0.447 final loss is 0.447\n",
      "Validation loss after 70 epochs: 0.447\n",
      "Loss increased after 70 epochs: 0.447 final loss is 0.447\n",
      "Loss increased after 80 epochs: 0.453 final loss is 0.447\n",
      "Loss increased after 90 epochs: 0.448 final loss is 0.447\n",
      "Loss increased after 100 epochs: 0.448 final loss is 0.447\n",
      "Mean absolute error: 0.48\n",
      "Root mean squared error 0.67\n"
     ]
    }
   ],
   "execution_count": 240
  },
  {
   "metadata": {
    "ExecuteTime": {
     "end_time": "2024-07-05T18:25:54.929092Z",
     "start_time": "2024-07-05T18:25:54.915022Z"
    }
   },
   "cell_type": "code",
   "source": [
    "dnn2 = NeuralNetwork(\n",
    "    layers=[Dense(neurons=6,activation=Sigmoid()),\n",
    "            Dense(neurons=6,activation=Sigmoid()),\n",
    "            Dense(neurons=3,activation=Sigmoid()),\n",
    "            Dense(neurons=1,activation=Linear())],\n",
    "    loss=MeanSquaredError(),\n",
    "    seed=7\n",
    ")"
   ],
   "id": "95abe2e48f346bc4",
   "outputs": [],
   "execution_count": 241
  },
  {
   "metadata": {
    "ExecuteTime": {
     "end_time": "2024-07-05T18:26:04.831521Z",
     "start_time": "2024-07-05T18:25:54.931067Z"
    }
   },
   "cell_type": "code",
   "source": [
    "trainer = Trainer(prp, SGD(lr=0.001))\n",
    "trainer.fit(X_train, y_train, X_test, y_test, epochs=100, eval_every=10)\n",
    "\n",
    "eval_regression_model(dnn2, X_test, y_test)"
   ],
   "id": "e3ce72bacee0ab68",
   "outputs": [
    {
     "name": "stdout",
     "output_type": "stream",
     "text": [
      "Validation loss after 10 epochs: 0.527\n",
      "Validation loss after 10 epochs: 0.527\n",
      "Validation loss after 10 epochs: 0.527\n",
      "Validation loss after 10 epochs: 0.527\n",
      "Validation loss after 10 epochs: 0.527\n",
      "Loss increased after 10 epochs: 0.527 final loss is 0.527\n",
      "Validation loss after 20 epochs: 0.525\n",
      "Validation loss after 20 epochs: 0.524\n",
      "Loss increased after 20 epochs: 0.524 final loss is 0.524\n",
      "Loss increased after 30 epochs: 0.528 final loss is 0.524\n",
      "Loss increased after 40 epochs: 0.525 final loss is 0.524\n",
      "Loss increased after 50 epochs: 0.528 final loss is 0.524\n",
      "Loss increased after 60 epochs: 0.529 final loss is 0.524\n",
      "Loss increased after 70 epochs: 0.525 final loss is 0.524\n",
      "Loss increased after 80 epochs: 0.529 final loss is 0.524\n",
      "Loss increased after 90 epochs: 0.525 final loss is 0.524\n",
      "Loss increased after 100 epochs: 0.525 final loss is 0.524\n",
      "Loss increased after 110 epochs: 0.527 final loss is 0.524\n",
      "Loss increased after 120 epochs: 0.527 final loss is 0.524\n",
      "Loss increased after 130 epochs: 0.527 final loss is 0.524\n",
      "Loss increased after 140 epochs: 0.525 final loss is 0.524\n",
      "Loss increased after 150 epochs: 0.528 final loss is 0.524\n",
      "Loss increased after 160 epochs: 0.525 final loss is 0.524\n",
      "Loss increased after 170 epochs: 0.527 final loss is 0.524\n",
      "Loss increased after 180 epochs: 0.526 final loss is 0.524\n",
      "Loss increased after 190 epochs: 0.529 final loss is 0.524\n",
      "Loss increased after 200 epochs: 0.524 final loss is 0.524\n",
      "Loss increased after 210 epochs: 0.528 final loss is 0.524\n",
      "Loss increased after 220 epochs: 0.527 final loss is 0.524\n",
      "Loss increased after 230 epochs: 0.525 final loss is 0.524\n",
      "Loss increased after 240 epochs: 0.525 final loss is 0.524\n",
      "Loss increased after 250 epochs: 0.526 final loss is 0.524\n",
      "Validation loss after 260 epochs: 0.524\n",
      "Validation loss after 260 epochs: 0.524\n",
      "Loss increased after 260 epochs: 0.524 final loss is 0.524\n",
      "Loss increased after 270 epochs: 0.529 final loss is 0.524\n",
      "Loss increased after 280 epochs: 0.527 final loss is 0.524\n",
      "Loss increased after 290 epochs: 0.526 final loss is 0.524\n",
      "Loss increased after 300 epochs: 0.524 final loss is 0.524\n",
      "Loss increased after 310 epochs: 0.526 final loss is 0.524\n",
      "Loss increased after 320 epochs: 0.524 final loss is 0.524\n",
      "Loss increased after 330 epochs: 0.525 final loss is 0.524\n",
      "Loss increased after 340 epochs: 0.524 final loss is 0.524\n",
      "Loss increased after 350 epochs: 0.527 final loss is 0.524\n",
      "Loss increased after 360 epochs: 0.527 final loss is 0.524\n",
      "Loss increased after 370 epochs: 0.527 final loss is 0.524\n",
      "Loss increased after 380 epochs: 0.529 final loss is 0.524\n",
      "Loss increased after 390 epochs: 0.529 final loss is 0.524\n",
      "Loss increased after 400 epochs: 0.528 final loss is 0.524\n",
      "Loss increased after 410 epochs: 0.526 final loss is 0.524\n",
      "Loss increased after 420 epochs: 0.527 final loss is 0.524\n",
      "Loss increased after 430 epochs: 0.524 final loss is 0.524\n",
      "Loss increased after 440 epochs: 0.527 final loss is 0.524\n",
      "Loss increased after 450 epochs: 0.526 final loss is 0.524\n",
      "Loss increased after 460 epochs: 0.527 final loss is 0.524\n",
      "Loss increased after 470 epochs: 0.527 final loss is 0.524\n",
      "Loss increased after 480 epochs: 0.525 final loss is 0.524\n",
      "Loss increased after 490 epochs: 0.528 final loss is 0.524\n",
      "Loss increased after 500 epochs: 0.528 final loss is 0.524\n",
      "Mean absolute error: 0.91\n",
      "Root mean squared error 1.27\n"
     ]
    }
   ],
   "execution_count": 242
  },
  {
   "metadata": {
    "ExecuteTime": {
     "end_time": "2024-07-05T18:26:04.862729Z",
     "start_time": "2024-07-05T18:26:04.848740Z"
    }
   },
   "cell_type": "code",
   "source": "",
   "id": "af55fc291c295387",
   "outputs": [],
   "execution_count": 242
  }
 ],
 "metadata": {
  "kernelspec": {
   "display_name": "Python 3",
   "language": "python",
   "name": "python3"
  },
  "language_info": {
   "codemirror_mode": {
    "name": "ipython",
    "version": 2
   },
   "file_extension": ".py",
   "mimetype": "text/x-python",
   "name": "python",
   "nbconvert_exporter": "python",
   "pygments_lexer": "ipython2",
   "version": "2.7.6"
  }
 },
 "nbformat": 4,
 "nbformat_minor": 5
}
